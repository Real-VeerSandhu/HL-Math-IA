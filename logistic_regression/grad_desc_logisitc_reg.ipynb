{
 "cells": [
  {
   "attachments": {},
   "cell_type": "markdown",
   "metadata": {},
   "source": [
    "# Gradient Descent with Multivariable Logistic Regression"
   ]
  },
  {
   "cell_type": "code",
   "execution_count": 2,
   "metadata": {},
   "outputs": [],
   "source": [
    "import math # built in Python package"
   ]
  },
  {
   "cell_type": "code",
   "execution_count": 3,
   "metadata": {},
   "outputs": [],
   "source": [
    "x = [10,12,14,16,18,20,22,24,26,28]\n",
    "y = [0,0,0,1,1,1,1,1,1,1]"
   ]
  },
  {
   "cell_type": "code",
   "execution_count": 4,
   "metadata": {},
   "outputs": [],
   "source": [
    "def cost_function(h_prediction, true_value):\n",
    "    if true_value == 1:\n",
    "        return (-1 / len(x)) * math.log(h_prediction,10)\n",
    "    else:\n",
    "        return (-1 / len(x)) *math.log((1 - h_prediction),10)\n",
    "\n",
    "def hypothesis_function(theta0, theta1, x):\n",
    "    return (1) / (1 + math.exp(1)**-(theta0 + theta1*x))"
   ]
  },
  {
   "cell_type": "code",
   "execution_count": 5,
   "metadata": {},
   "outputs": [],
   "source": [
    "def gradient_descent(theta0, theta1, m, learning_rate, num_iterations):\n",
    "    theta0_history = [0] * num_iterations\n",
    "    theta1_history = [0] * num_iterations\n",
    "    \n",
    "    for i in range(num_iterations):\n",
    "        sum0 = 0\n",
    "        for j in range(len(x)):\n",
    "            sum0 += (hypothesis_function(theta0, theta1, x[j]) - y[j])\n",
    "        step0 = sum0 * learning_rate * (1/m)\n",
    "        theta0 = theta0 - step0\n",
    "        theta0_history[i] = (theta0)\n",
    "\n",
    "        sum1 = 0\n",
    "        for k in range(len(x)):\n",
    "            sum1 += (hypothesis_function(theta0, theta1, x[k]) - y[k]) * (x[k])\n",
    "        step1 = sum1 * learning_rate * (1/m)\n",
    "        theta1 = theta1 - step1\n",
    "        theta1_history[i] = (theta1)\n",
    "    return theta0, theta1, theta0_history, theta1_history"
   ]
  },
  {
   "cell_type": "code",
   "execution_count": 6,
   "metadata": {},
   "outputs": [],
   "source": [
    "w0, w1, w0_hist, w1_hist = gradient_descent(theta0=1, theta1=1, m=10, learning_rate=0.03, num_iterations=30000)"
   ]
  },
  {
   "cell_type": "code",
   "execution_count": 16,
   "metadata": {},
   "outputs": [
    {
     "name": "stdout",
     "output_type": "stream",
     "text": [
      "Theta0: -14.358250245039688\n",
      "Theta1: 0.9656230041759344\n"
     ]
    }
   ],
   "source": [
    "print('Theta0:',w0)\n",
    "print('Theta1:',w1)"
   ]
  },
  {
   "cell_type": "code",
   "execution_count": 17,
   "metadata": {},
   "outputs": [
    {
     "name": "stdout",
     "output_type": "stream",
     "text": [
      "First 3 Theta0s: [0.9910000579465823, 0.982000236869433, 0.9730007956469143]\n",
      "Last Theta0: -14.358250245039688\n",
      "Second Last Theta0: -14.35805925808896\n"
     ]
    }
   ],
   "source": [
    "print('First 3 Theta0s:', w0_hist[0:3])\n",
    "print('Last Theta0:', w0_hist[-1])\n",
    "print('Second Last Theta0:', w0_hist[-2])"
   ]
  },
  {
   "cell_type": "code",
   "execution_count": 18,
   "metadata": {},
   "outputs": [
    {
     "name": "stdout",
     "output_type": "stream",
     "text": [
      "First 3 Theta1s: [0.892000603007992, 0.7840024813059554, 0.6760084165976912]\n",
      "Last Theta1: 0.9656230041759344\n",
      "Second Last Theta1: 0.9656103701383982\n"
     ]
    }
   ],
   "source": [
    "print('First 3 Theta1s:', w1_hist[0:3])\n",
    "print('Last Theta1:', w1_hist[-1])\n",
    "print('Second Last Theta1:', w1_hist[-2])"
   ]
  },
  {
   "cell_type": "code",
   "execution_count": 15,
   "metadata": {},
   "outputs": [
    {
     "data": {
      "text/plain": [
       "0.033510222006228205"
      ]
     },
     "execution_count": 15,
     "metadata": {},
     "output_type": "execute_result"
    }
   ],
   "source": [
    "# Final error of trained hypothesis function\n",
    "\n",
    "sum = 0\n",
    "for i in range(len(x)):\n",
    "    sum += cost_function(hypothesis_function(-14.4, 0.966, x[i]), y[i])\n",
    "sum"
   ]
  }
 ],
 "metadata": {
  "kernelspec": {
   "display_name": "main_env1",
   "language": "python",
   "name": "python3"
  },
  "language_info": {
   "codemirror_mode": {
    "name": "ipython",
    "version": 3
   },
   "file_extension": ".py",
   "mimetype": "text/x-python",
   "name": "python",
   "nbconvert_exporter": "python",
   "pygments_lexer": "ipython3",
   "version": "3.8.12"
  },
  "orig_nbformat": 4,
  "vscode": {
   "interpreter": {
    "hash": "b719890b3c769ab08ff18901591167cccb1fa09ee46a540c961e8deed66fd577"
   }
  }
 },
 "nbformat": 4,
 "nbformat_minor": 2
}
