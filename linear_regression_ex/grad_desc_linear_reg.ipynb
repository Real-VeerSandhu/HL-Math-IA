{
 "cells": [
  {
   "attachments": {},
   "cell_type": "markdown",
   "metadata": {},
   "source": [
    "# Gradient Descent with Univariable Linear Regression"
   ]
  },
  {
   "cell_type": "code",
   "execution_count": 2,
   "metadata": {},
   "outputs": [],
   "source": [
    "x = [1,2,3,4,5,6,7,8,9,10]\n",
    "y = [2.60,6.80,7.23,9.97,12.9,15.4,15.2,19.3,20.4,23.5]"
   ]
  },
  {
   "cell_type": "code",
   "execution_count": 3,
   "metadata": {},
   "outputs": [],
   "source": [
    "def hypothesis_function(weight, x):\n",
    "    return weight * x\n",
    "\n",
    "def cost_function(model,true_data):\n",
    "    return (1 / (2*len(x)))*(model - true_data)**2"
   ]
  },
  {
   "cell_type": "code",
   "execution_count": 4,
   "metadata": {},
   "outputs": [],
   "source": [
    "def gradient_descent(theta1, m, learning_rate, num_iterations):\n",
    "    theta_history = [0] * num_iterations\n",
    "    cost_history = [0] * num_iterations\n",
    "    for i in range(num_iterations):\n",
    "        sum = 0\n",
    "        for j in range(len(x)):\n",
    "            sum += (theta1*x[j] - y[j]) * (x[j])\n",
    "        step = sum * learning_rate * (1/m)\n",
    "        theta1 = theta1 - step\n",
    "        theta_history[i] = (theta1)\n",
    "\n",
    "        sum2 = 0\n",
    "        for k in range(len(x)):\n",
    "            sum2 += (cost_function(hypothesis_function(theta1, x[k]), y[k]))\n",
    "        cost_history[i] = sum2\n",
    "    return theta1, theta_history, cost_history"
   ]
  },
  {
   "cell_type": "code",
   "execution_count": 5,
   "metadata": {},
   "outputs": [
    {
     "data": {
      "text/plain": [
       "(2.3701847573448656,\n",
       " [1.52907,\n",
       "  1.85444805,\n",
       "  2.05455555075,\n",
       "  2.17762166371125,\n",
       "  2.253307323182419,\n",
       "  2.2998540037571877,\n",
       "  2.3284802123106703,\n",
       "  2.346085330571062,\n",
       "  2.356912478301203,\n",
       "  2.36357117415524,\n",
       "  2.3676662721054726,\n",
       "  2.3701847573448656],\n",
       " [14.249048509325004,\n",
       "  5.69997531901445,\n",
       "  2.466502111609241,\n",
       "  1.2435217077384035,\n",
       "  0.7809599444843572,\n",
       "  0.6060075215775963,\n",
       "  0.5398361414236871,\n",
       "  0.5148084711649745,\n",
       "  0.5053423805813726,\n",
       "  0.5017620684703901,\n",
       "  0.5004079049222133,\n",
       "  0.49989572641420454])"
      ]
     },
     "execution_count": 5,
     "metadata": {},
     "output_type": "execute_result"
    }
   ],
   "source": [
    "gradient_descent(theta1=1, m=10, learning_rate=0.01, num_iterations=12)"
   ]
  },
  {
   "cell_type": "code",
   "execution_count": 6,
   "metadata": {},
   "outputs": [],
   "source": [
    "theta1, theta_history, cost_history = gradient_descent(theta1=1, m=10, learning_rate=0.01, num_iterations=12)"
   ]
  },
  {
   "cell_type": "code",
   "execution_count": 7,
   "metadata": {},
   "outputs": [
    {
     "name": "stdout",
     "output_type": "stream",
     "text": [
      "Final Theta1: 2.3701847573448656\n"
     ]
    }
   ],
   "source": [
    "print('Final Theta1:', theta1)"
   ]
  }
 ],
 "metadata": {
  "kernelspec": {
   "display_name": "main_env1",
   "language": "python",
   "name": "python3"
  },
  "language_info": {
   "codemirror_mode": {
    "name": "ipython",
    "version": 3
   },
   "file_extension": ".py",
   "mimetype": "text/x-python",
   "name": "python",
   "nbconvert_exporter": "python",
   "pygments_lexer": "ipython3",
   "version": "3.8.12"
  },
  "orig_nbformat": 4,
  "vscode": {
   "interpreter": {
    "hash": "b719890b3c769ab08ff18901591167cccb1fa09ee46a540c961e8deed66fd577"
   }
  }
 },
 "nbformat": 4,
 "nbformat_minor": 2
}
